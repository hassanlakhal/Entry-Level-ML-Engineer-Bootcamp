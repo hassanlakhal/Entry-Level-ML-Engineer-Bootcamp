{
 "cells": [
  {
   "cell_type": "markdown",
   "metadata": {
    "id": "O5pQ4g2TihFV"
   },
   "source": [
    "# 🚀 Week 02: Training Machine Learning Models 🎯  \n",
    "\n",
    "This week, we dive deeper into **Machine Learning** by learning how to **train models** for different types of problems, including **classification** and **prediction** tasks. 🧠💡  \n",
    "\n",
    "### What You’ll Learn:  \n",
    "🔹 How to **train models** using real-world data.  \n",
    "🔹 The role of **features** in improving predictions.  \n",
    "🔹 How to **evaluate model performance** and fine-tune it.  \n",
    "🔹 The impact of **hyperparameters** like learning rate and epochs.  \n",
    "\n",
    "By the end of this week, you'll be able to build, train, and test models confidently. Get ready to experiment, analyze, and improve your models! 🚀🔥"
   ]
  },
  {
   "cell_type": "markdown",
   "metadata": {
    "id": "aWsWiuU2ixrv"
   },
   "source": [
    "## Exercise 01 : **Predicting Trip Fare using Linear Regression**  \n",
    "---\n",
    "\n",
    "### **Objective**  \n",
    "The goal of this task is to build a machine learning model that predicts the fare price of a trip based on selected features. You will go through the full machine learning workflow, including data preprocessing, model training, evaluation, and visualization.  \n",
    "\n",
    "### **Tasks Overview**  \n",
    "\n",
    "Follow these steps to train and evaluate a machine learning model:  \n",
    "\n",
    "1. **Load and Explore the Data** 📝  \n",
    "2. **Prepare the Data** 🔧  \n",
    "3. **Train the Model** 🎯  \n",
    "4. **Make Predictions** 🔮  \n",
    "5. **Evaluate the Model** 📊  \n",
    "\n",
    "### **Resources**  \n",
    "[A Visual Introduction To (Almost) Everything You Should Know](https://mlu-explain.github.io/linear-regression/)\n",
    "\n",
    "---"
   ]
  },
  {
   "cell_type": "markdown",
   "metadata": {
    "id": "4fOn-MdLlkyL"
   },
   "source": [
    "###1.Load and Explore the Data 📝\n",
    "\n",
    "Load the dataset using pandas and inspect its structure.\n",
    "Check for missing values and basic statistics.\n",
    "Visualize key features to understand their relationship with the target variable."
   ]
  },
  {
   "cell_type": "code",
   "execution_count": 85,
   "metadata": {
    "id": "neETq2DSi4OA"
   },
   "outputs": [
    {
     "name": "stdout",
     "output_type": "stream",
     "text": [
      "['TRIP_START_TIMESTAMP', 'TRIP_END_TIMESTAMP', 'PAYMENT_TYPE', 'COMPANY']\n"
     ]
    }
   ],
   "source": [
    "import pandas as pd\n",
    "import seaborn as sns \n",
    "import matplotlib.pyplot as plt\n",
    "from sklearn.preprocessing import OneHotEncoder\n",
    "# from sklearn.preprocessing import LabelEncoder\n",
    "\n",
    "\n",
    "data_url = \"https://download.mlcc.google.com/mledu-datasets/chicago_taxi_train.csv\"\n",
    "\n",
    "data = pd.read_csv(data_url)\n",
    "df = pd.DataFrame(data)\n",
    "df.dropna(inplace=True)\n",
    "\n",
    "categorical = df.select_dtypes(include=['object']).columns.tolist()\n",
    "encoder = OneHotEncoder(sparse_output=False)\n",
    "onehot = encoder.fit_transform(df[categorical])\n",
    "feature_names = encoder.get_feature_names_out(categorical)\n",
    "\n",
    "onehot_df = pd.DataFrame(onehot, columns=feature_names, index=df.index)\n",
    "\n",
    "df = df.drop(columns=categorical)\n",
    "df = pd.concat([df, onehot_df], axis=1)\n",
    "# print(df.columns.tolist())\n",
    "# print(categorical)\n",
    "# X = df.drop()"
   ]
  },
  {
   "cell_type": "markdown",
   "metadata": {
    "id": "JCK91KRVlwq-"
   },
   "source": [
    "###2.Prepare the Data 🔧  \n",
    "   - Select the most relevant features for training.  \n",
    "   - Handle missing values if needed.  \n",
    "   - Normalize or scale the data to improve performance if needed\n",
    "   - Split the dataset into **training (80%)** and **testing (20%)** sets.  \n",
    "\n",
    ">🙋 **Why we need to split our dataset**❓"
   ]
  },
  {
   "cell_type": "code",
   "execution_count": 94,
   "metadata": {
    "id": "bwV79EU6nJVI"
   },
   "outputs": [],
   "source": [
    "# add your code here\n",
    "from sklearn import preprocessing\n",
    "scaler = preprocessing.StandardScaler()\n",
    "\n",
    "standar = scaler.fit_transform(df)\n",
    "scaler_data = pd.DataFrame(standar, columns=df.columns, index=df.index)\n",
    "\n",
    "X = scaler_data.drop(columns='FARE')\n",
    "y = scaler_data['FARE']\n",
    "# scaler_data"
   ]
  },
  {
   "cell_type": "code",
   "execution_count": 98,
   "metadata": {},
   "outputs": [
    {
     "name": "stdout",
     "output_type": "stream",
     "text": [
      "X_train:\n",
      "       TRIP_START_HOUR  TRIP_SECONDS  TRIP_MILES  TRIP_SPEED  \\\n",
      "23909        -0.462867      1.101586    1.409734    1.096954   \n",
      "23043         1.006360      1.142396    1.340014    0.968164   \n",
      "232           0.830052      0.007686   -0.698979   -1.151925   \n",
      "7448         -1.755787     -0.427286   -0.622681   -0.587228   \n",
      "13045        -0.991789     -0.698024   -0.662146   -0.220671   \n",
      "\n",
      "       PICKUP_CENSUS_TRACT  DROPOFF_CENSUS_TRACT  PICKUP_COMMUNITY_AREA  \\\n",
      "23909             1.248967             -0.928942               1.583526   \n",
      "23043             1.248967             -0.346327               1.583526   \n",
      "232              -0.597612              1.289567              -0.312180   \n",
      "7448             -0.597612             -0.928646              -0.312180   \n",
      "13045            -1.127960              1.291912              -1.102058   \n",
      "\n",
      "       DROPOFF_COMMUNITY_AREA      TIPS  TIP_RATE  ...  \\\n",
      "23909               -0.933166  1.540405  0.212445  ...   \n",
      "23043                0.153323  1.430710  0.212445  ...   \n",
      "232                 -0.933166 -0.373173  0.093136  ...   \n",
      "7448                -0.933166 -0.860709 -0.992572  ...   \n",
      "13045                0.370620 -0.860709 -0.992572  ...   \n",
      "\n",
      "       COMPANY_Petani Cab Corp  COMPANY_Setare Inc  \\\n",
      "23909                -0.036958           -0.020034   \n",
      "23043                -0.036958           -0.020034   \n",
      "232                  -0.036958           -0.020034   \n",
      "7448                 -0.036958           -0.020034   \n",
      "13045                -0.036958           -0.020034   \n",
      "\n",
      "       COMPANY_Star North Taxi Management Llc  COMPANY_Sun Taxi  \\\n",
      "23909                               -0.194879          2.492465   \n",
      "23043                               -0.194879         -0.401209   \n",
      "232                                 -0.194879         -0.401209   \n",
      "7448                                -0.194879         -0.401209   \n",
      "13045                               -0.194879         -0.401209   \n",
      "\n",
      "       COMPANY_Taxi Affiliation Services  \\\n",
      "23909                          -0.405512   \n",
      "23043                           2.466019   \n",
      "232                            -0.405512   \n",
      "7448                           -0.405512   \n",
      "13045                          -0.405512   \n",
      "\n",
      "       COMPANY_Taxicab Insurance Agency Llc  \\\n",
      "23909                             -0.211577   \n",
      "23043                             -0.211577   \n",
      "232                               -0.211577   \n",
      "7448                              -0.211577   \n",
      "13045                             -0.211577   \n",
      "\n",
      "       COMPANY_Taxicab Insurance Agency, LLC  COMPANY_Top Cab  \\\n",
      "23909                              -0.247797        -0.020034   \n",
      "23043                              -0.247797        -0.020034   \n",
      "232                                -0.247797        -0.020034   \n",
      "7448                               -0.247797        -0.020034   \n",
      "13045                              -0.247797        -0.020034   \n",
      "\n",
      "       COMPANY_Top Cab Affiliation  COMPANY_U Taxicab  \n",
      "23909                    -0.169233          -0.128032  \n",
      "23043                    -0.169233          -0.128032  \n",
      "232                      -0.169233           7.810568  \n",
      "7448                     -0.169233          -0.128032  \n",
      "13045                    -0.169233          -0.128032  \n",
      "\n",
      "[5 rows x 382 columns]\n",
      "Y_train:\n",
      "23909    1.385869\n",
      "23043    1.256666\n",
      "232     -0.552176\n",
      "7448    -0.583184\n",
      "13045   -0.681379\n",
      "Name: FARE, dtype: float64\n"
     ]
    }
   ],
   "source": [
    "from sklearn.model_selection import train_test_split \n",
    "X_train, X_test, y_train, y_test = train_test_split(X, y, test_size=0.2, random_state=42)\n",
    "\n",
    "# For splitting into train, validation, and test sets:\n",
    "X_temp, X_test, y_temp, y_test = train_test_split(X, y, test_size=0.2, random_state=42)\n",
    "X_train, X_val, y_train, y_val = train_test_split(X_temp, y_temp, test_size=0.25, random_state=42)\n",
    "\n",
    "\n",
    "print(\"X_train:\")\n",
    "print(X_train.head())\n",
    "\n",
    "print(\"Y_train:\")\n",
    "print(y_train.head())\n"
   ]
  },
  {
   "cell_type": "markdown",
   "metadata": {
    "id": "dweBnkYdnO69"
   },
   "source": [
    "### 3. Train the Model 🎯  \n",
    "\n",
    "Train a **linear regression model** using `sklearn` (you can also try other alternatives).  \n",
    "\n",
    "🔧 **Experiment with Different Features**  \n",
    "- Start with a few features and observe the model's performance.  \n",
    "- Try adding or removing features to see how it affects accuracy.  \n",
    "\n",
    "> 🙋 **What are hyperparameters, and how do learning rate and epochs affect training** ❓\n",
    "\n",
    "> 🙋 **Does using more features always improve the model** ❓"
   ]
  },
  {
   "cell_type": "code",
   "execution_count": null,
   "metadata": {
    "id": "zxmgph-poA05"
   },
   "outputs": [],
   "source": [
    "# add your code here"
   ]
  },
  {
   "cell_type": "markdown",
   "metadata": {
    "id": "h7uXQVjIpzUw"
   },
   "source": [
    "#### 🎉 Congratulations! 🎉\n",
    "\n",
    "**🚀You’ve just trained your first Machine Learning model! 🚀**"
   ]
  },
  {
   "cell_type": "markdown",
   "metadata": {
    "id": "myQJktwdoRm9"
   },
   "source": [
    "### 4. Make Predictions 🔮  \n",
    "\n",
    "Use the trained model to predict values on the **testing data**.  \n",
    "Compare the predictions with the actual values to assess accuracy.  \n",
    "You can also try making predictions on the **training data** to see how well the model memorized the patterns.  \n",
    "\n",
    ">🙋 **Why doesn’t the model predict exact values, even when using the training data**❓"
   ]
  },
  {
   "cell_type": "code",
   "execution_count": null,
   "metadata": {
    "id": "f_f5rdFOpSSJ"
   },
   "outputs": [],
   "source": [
    "# add your code here"
   ]
  },
  {
   "cell_type": "markdown",
   "metadata": {
    "id": "X5cKVUyfqI1Q"
   },
   "source": [
    "###5.Evaluate the Model 📊\n",
    "\n",
    "Measure performance using metrics like MSE, RMSE, and R² Score.\n",
    "Plot a loss curve to track training progress.\n",
    "Create a scatter plot to compare actual vs. predicted values.\n",
    "\n",
    ">🙋 **What do MSE, RMSE, and R² Score tell us about the model's performance**❓\n",
    "\n",
    ">🙋 **How can you tell if your model is overfitting or underfitting**❓\n"
   ]
  },
  {
   "cell_type": "code",
   "execution_count": null,
   "metadata": {
    "id": "j-xuuGjgrswb"
   },
   "outputs": [],
   "source": [
    "# add your code here"
   ]
  },
  {
   "cell_type": "markdown",
   "metadata": {
    "id": "ESzz51iwi3QN"
   },
   "source": [
    "---\n",
    "## Exercise 02 : **University Admission Prediction Challenge**\n",
    "\n",
    "😇 I know that the exercise is difficult, but you will practice what you learned last week along with your first classification algorithm.\n",
    "\n",
    "### 🎯 Objective\n",
    "\n",
    "Your mission is to predict whether a student will be admitted to their desired university based on various academic and application-related factors. You’ll use **Logistic Regression** to build a predictive model and discuss its strengths and limitations.\n",
    "\n",
    "📊 The Dataset  :\n",
    "\n",
    "[Admission_Predict.csv](https://github.com/1337-Artificial-Intelligence/Entry-Level-ML-Engineer-Bootcamp/blob/main/Week02/Admission_Prediction_Challenge.csv)\n",
    "\n",
    "The dataset contains information on **400 students** with the following attributes:\n",
    "\n",
    "- **GRE Score** 🎓\n",
    "- **TOEFL Score** 📚\n",
    "- **University Rating** 🏛️\n",
    "- **Statement of Purpose (SOP) Score** ✍️\n",
    "- **Letter of Recommendation (LOR) Score** 📩\n",
    "- **Cumulative Grade Point Average (CGPA)** 🎯\n",
    "- **Research Experience (Yes/No)** 🔬\n",
    "- **Chance of Admission (Target Variable: 0 or 1)**\n",
    "\n",
    "### 🛠️ Steps to Follow\n",
    "\n",
    "1. **Load & Explore the Data**: Understand the dataset, check for missing values, and analyze distributions.\n",
    "2. **Feature Selection & Processing**: Identify relevant features and scale them if needed.\n",
    "3. **Train a Logistic Regression Model**: Implement Logistic Regression (**from scratch** optional) to classify students into \"Admitted\" or \"Not Admitted.\"\n",
    "4. **Evaluate the Model**: Measure accuracy, precision, recall, and other key metrics.(do some reaserch 🙂)\n",
    "5. **Discuss Limitations**: Explore cases where Logistic Regression may struggle and suggest improvements (e.g., feature engineering, alternative models).\n",
    "\n",
    "### **Resources**  \n",
    "[Logistic Regression](https://mlu-explain.github.io/logistic-regression/)\n",
    "\n",
    "### 🎨 Bonus: Visual Exploration\n",
    "\n",
    "Use **histograms, correlation heatmaps, and scatter plots** to gain insights before modeling.\n",
    "\n",
    "🔎 **Can you build a model that accurately predicts student admissions?** Let's find out! 🚀"
   ]
  },
  {
   "cell_type": "code",
   "execution_count": null,
   "metadata": {
    "id": "g9JuLXcoi78E"
   },
   "outputs": [],
   "source": [
    "# add your code here"
   ]
  },
  {
   "cell_type": "markdown",
   "metadata": {
    "id": "tRv_puvCi9Pu"
   },
   "source": [
    "---\n",
    "##🎉 **Congratulations!** 🎉  \n",
    "\n",
    "You've successfully trained your first **Linear Regression** and **Logistic Regression** models! 🚀  \n",
    "\n",
    "Through this journey, you've learned:  \n",
    "✅ How to **prepare and preprocess data** for training.  \n",
    "✅ The importance of **choosing the right features** and tuning **hyperparameters**.  \n",
    "✅ How to **train, predict, and evaluate models** using key metrics.  \n",
    "✅ The difference between **regression (predicting continuous values)** and **classification (predicting categories)**.  \n",
    "\n",
    "This is a **big step** in your Machine Learning journey! 💡 But ML is much more than just linear and logistic regression—there are many other models and techniques to explore.  \n",
    "\n",
    "🔎 **Next Challenge:**  \n",
    "- Research other **types of ML models** (e.g., Decision Trees, SVMs, Neural Networks).  \n",
    "- Try solving different **real-world problems** using what you've learned.  \n",
    "\n",
    "👏 Keep experimenting, keep learning, and welcome to the world of Machine Learning! 🚀🔥"
   ]
  }
 ],
 "metadata": {
  "colab": {
   "collapsed_sections": [
    "aWsWiuU2ixrv"
   ],
   "provenance": []
  },
  "kernelspec": {
   "display_name": "Python 3 (ipykernel)",
   "language": "python",
   "name": "python3"
  },
  "language_info": {
   "codemirror_mode": {
    "name": "ipython",
    "version": 3
   },
   "file_extension": ".py",
   "mimetype": "text/x-python",
   "name": "python",
   "nbconvert_exporter": "python",
   "pygments_lexer": "ipython3",
   "version": "3.10.12"
  }
 },
 "nbformat": 4,
 "nbformat_minor": 4
}
